{
 "cells": [
  {
   "cell_type": "code",
   "execution_count": 7,
   "metadata": {},
   "outputs": [
    {
     "data": {
      "text/plain": [
       "<mayavi.modules.surface.Surface at 0x12f95aa5be8>"
      ]
     },
     "execution_count": 7,
     "metadata": {},
     "output_type": "execute_result"
    }
   ],
   "source": [
    "%gui qt\n",
    "from mayavi import mlab\n",
    "mlab.test_plot3d()"
   ]
  },
  {
   "cell_type": "code",
   "execution_count": 8,
   "metadata": {},
   "outputs": [
    {
     "name": "stdout",
     "output_type": "stream",
     "text": [
      "./KITTI/object training\n",
      "no pred file\n",
      "./KITTI/object\\training\\velodyne\\000000.bin\n",
      "0 image shape:  (370, 1224, 3)\n",
      "0 velo  shape:  (115384, 4)\n",
      "======== Objects in Ground Truth ========\n",
      "=== 1 object ===\n",
      "Type, truncation, occlusion, alpha: Pedestrian, 0, 0, -0.200000\n",
      "2d bbox (x0,y0,x1,y1): 712.400000, 143.000000, 810.730000, 307.920000\n",
      "3d bbox h,w,l: 1.890000, 0.480000, 1.200000\n",
      "3d bbox location, ry: (1.840000, 1.470000, 8.410000), 0.010000\n",
      "Difficulty of estimation: Easy\n",
      "('All point num: ', 115384)\n",
      "('FOV point num: ', (20285, 4))\n",
      "pc_velo (20285, 4)\n",
      "==================== (20285, 4)\n",
      "box3d_pts_3d_velo:\n",
      "[[ 8.96440459 -2.45859462 -1.60867186]\n",
      " [ 8.48444353 -2.45306157 -1.60607081]\n",
      " [ 8.49835837 -1.25324031 -1.59072653]\n",
      " [ 8.97831943 -1.25877336 -1.59332758]\n",
      " [ 8.97436611 -2.48287864  0.28114573]\n",
      " [ 8.49440505 -2.47734559  0.28374677]\n",
      " [ 8.50831989 -1.27752433  0.29909105]\n",
      " [ 8.98828095 -1.28305738  0.29649   ]]\n"
     ]
    }
   ],
   "source": [
    "!python ./kitti_object_vis/kitti_object.py -d ./KITTI/object --show_lidar_with_depth --img_fov --const_box --vis"
   ]
  },
  {
   "cell_type": "code",
   "execution_count": null,
   "metadata": {},
   "outputs": [],
   "source": []
  }
 ],
 "metadata": {
  "kernelspec": {
   "display_name": "Python 3",
   "language": "python",
   "name": "python3"
  },
  "language_info": {
   "codemirror_mode": {
    "name": "ipython",
    "version": 3
   },
   "file_extension": ".py",
   "mimetype": "text/x-python",
   "name": "python",
   "nbconvert_exporter": "python",
   "pygments_lexer": "ipython3",
   "version": "3.7.9"
  }
 },
 "nbformat": 4,
 "nbformat_minor": 4
}
