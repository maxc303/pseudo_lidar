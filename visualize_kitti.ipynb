{
 "cells": [
  {
   "cell_type": "code",
   "execution_count": 1,
   "metadata": {},
   "outputs": [
    {
     "data": {
      "text/plain": [
       "<mayavi.modules.surface.Surface at 0x7f5213ad7830>"
      ]
     },
     "execution_count": 1,
     "metadata": {},
     "output_type": "execute_result"
    }
   ],
   "source": [
    "%gui qt\n",
    "from mayavi import mlab\n",
    "mlab.test_plot3d()"
   ]
  },
  {
   "cell_type": "code",
   "execution_count": 2,
   "metadata": {},
   "outputs": [
    {
     "ename": "ModuleNotFoundError",
     "evalue": "No module named 'kitti_object_vis.viz_util.py'; 'kitti_object_vis.viz_util' is not a package",
     "output_type": "error",
     "traceback": [
      "\u001b[0;31m---------------------------------------------------------------------------\u001b[0m",
      "\u001b[0;31mModuleNotFoundError\u001b[0m                       Traceback (most recent call last)",
      "\u001b[0;32m<ipython-input-2-067151b4186d>\u001b[0m in \u001b[0;36m<module>\u001b[0;34m\u001b[0m\n\u001b[0;32m----> 1\u001b[0;31m \u001b[0;32mimport\u001b[0m \u001b[0mkitti_object_vis\u001b[0m\u001b[0;34m.\u001b[0m\u001b[0mviz_util\u001b[0m\u001b[0;34m.\u001b[0m\u001b[0mpy\u001b[0m\u001b[0;34m\u001b[0m\u001b[0;34m\u001b[0m\u001b[0m\n\u001b[0m",
      "\u001b[0;31mModuleNotFoundError\u001b[0m: No module named 'kitti_object_vis.viz_util.py'; 'kitti_object_vis.viz_util' is not a package"
     ]
    }
   ],
   "source": [
    "import kitti_object_vis.viz_util.py"
   ]
  },
  {
   "cell_type": "code",
   "execution_count": 3,
   "metadata": {},
   "outputs": [
    {
     "name": "stdout",
     "output_type": "stream",
     "text": [
      "QObject::moveToThread: Current thread (0x28fa880) is not the object's thread (0x2d7e970).\r\n",
      "Cannot move to target thread (0x28fa880)\r\n",
      "\r\n",
      "qt.qpa.plugin: Could not load the Qt platform plugin \"xcb\" in \"/home/maxc303/aer1515/venv_pl/lib/python3.7/site-packages/cv2/qt/plugins\" even though it was found.\r\n",
      "This application failed to start because no Qt platform plugin could be initialized. Reinstalling the application may fix this problem.\r\n",
      "\r\n",
      "Available platform plugins are: xcb, eglfs, linuxfb, minimal, minimalegl, offscreen, vnc, wayland-egl, wayland, wayland-xcomposite-egl, wayland-xcomposite-glx, webgl.\r\n",
      "\r\n"
     ]
    }
   ],
   "source": [
    "%gui qt\n",
    "!python ./kitti_object_vis/kitti_object.py -d ./KITTI/object --vis --ind 5"
   ]
  },
  {
   "cell_type": "code",
   "execution_count": null,
   "metadata": {},
   "outputs": [],
   "source": []
  }
 ],
 "metadata": {
  "kernelspec": {
   "display_name": "Python 3",
   "language": "python",
   "name": "python3"
  },
  "language_info": {
   "codemirror_mode": {
    "name": "ipython",
    "version": 3
   },
   "file_extension": ".py",
   "mimetype": "text/x-python",
   "name": "python",
   "nbconvert_exporter": "python",
   "pygments_lexer": "ipython3",
   "version": "3.7.9"
  }
 },
 "nbformat": 4,
 "nbformat_minor": 4
}
