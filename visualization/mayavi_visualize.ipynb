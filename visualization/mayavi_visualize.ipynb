{
 "cells": [
  {
   "cell_type": "code",
   "execution_count": 10,
   "metadata": {},
   "outputs": [
    {
     "data": {
      "text/plain": [
       "<mayavi.modules.surface.Surface at 0x203bac4ee28>"
      ]
     },
     "execution_count": 10,
     "metadata": {},
     "output_type": "execute_result"
    }
   ],
   "source": [
    "#Test mayavi\n",
    "%gui qt\n",
    "from mayavi import mlab\n",
    "mlab.test_plot3d()"
   ]
  },
  {
   "cell_type": "code",
   "execution_count": null,
   "metadata": {},
   "outputs": [],
   "source": [
    "!python ./psmnet/submission.py     --loadmodel ./psmnet/models/finetune_300.tar   --datapath ../KITTI/object/testing/ --save_path ../result"
   ]
  },
  {
   "cell_type": "code",
   "execution_count": 9,
   "metadata": {},
   "outputs": [
    {
     "name": "stdout",
     "output_type": "stream",
     "text": [
      "(427463, 4)\n"
     ]
    },
    {
     "data": {
      "text/plain": [
       "<mayavi.modules.surface.Surface at 0x203bab71be8>"
      ]
     },
     "execution_count": 9,
     "metadata": {},
     "output_type": "execute_result"
    }
   ],
   "source": [
    "\n",
    "import numpy as np\n",
    "import mayavi.mlab\n",
    " \n",
    " \n",
    "pointcloud = np.fromfile(str(\"../000000.bin\"), dtype=np.float32, count=-1).reshape([-1,4])\n",
    " \n",
    "print(pointcloud.shape)\n",
    "x = pointcloud[:, 0]  # x position of point\n",
    "y = pointcloud[:, 1]  # y position of point\n",
    "z = pointcloud[:, 2]  # z position of point\n",
    "r = pointcloud[:, 3]  # reflectance value of point\n",
    "d = np.sqrt(x ** 2 + y ** 2)  # Map Distance from sensor\n",
    " \n",
    " \n",
    "vals='height'\n",
    "if vals == \"height\":\n",
    "    col = z\n",
    "else:\n",
    "    col = d\n",
    " \n",
    "fig = mayavi.mlab.figure(bgcolor=(0, 0, 0), size=(640, 500))\n",
    "mayavi.mlab.points3d(x, y, z,\n",
    "                     col,          # Values used for Color\n",
    "                     mode=\"point\",\n",
    "                     colormap='spectral', # 'bone', 'copper', 'gnuplot'\n",
    "                     # color=(0, 1, 0),   # Used a fixed (r,g,b) instead\n",
    "                     figure=fig,\n",
    "                     )\n",
    " \n",
    "x=np.linspace(5,5,50)\n",
    "y=np.linspace(0,0,50)\n",
    "z=np.linspace(0,5,50)\n",
    "mayavi.mlab.plot3d(x,y,z)\n"
   ]
  },
  {
   "cell_type": "code",
   "execution_count": null,
   "metadata": {},
   "outputs": [],
   "source": []
  },
  {
   "cell_type": "code",
   "execution_count": null,
   "metadata": {},
   "outputs": [],
   "source": []
  }
 ],
 "metadata": {
  "kernelspec": {
   "display_name": "Python 3",
   "language": "python",
   "name": "python3"
  },
  "language_info": {
   "codemirror_mode": {
    "name": "ipython",
    "version": 3
   },
   "file_extension": ".py",
   "mimetype": "text/x-python",
   "name": "python",
   "nbconvert_exporter": "python",
   "pygments_lexer": "ipython3",
   "version": "3.7.9"
  }
 },
 "nbformat": 4,
 "nbformat_minor": 4
}
